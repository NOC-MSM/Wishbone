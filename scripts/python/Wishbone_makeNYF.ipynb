{
 "cells": [
  {
   "cell_type": "markdown",
   "id": "58690f7b-9c1d-4d49-9851-3a616c0e191b",
   "metadata": {
    "tags": []
   },
   "source": [
    "### Imports"
   ]
  },
  {
   "cell_type": "code",
   "execution_count": 1,
   "id": "dd8c702a-55bf-444a-9e73-9ff8e70a3e77",
   "metadata": {},
   "outputs": [],
   "source": [
    "import xarray as xr\n",
    "import glob"
   ]
  },
  {
   "cell_type": "markdown",
   "id": "cd2ea1eb-fbf7-4de1-97c6-6a95ad5471b2",
   "metadata": {},
   "source": [
    "## Create a \"normal year\" from two regular years\n",
    "#### - Day 91 (01/04) onwards of the variable in year 1 is copied over the equivalent section of year 2\n",
    "#### - Output is written to file"
   ]
  },
  {
   "cell_type": "code",
   "execution_count": 2,
   "id": "deef1cfe-ad9b-41a1-bf55-8db4115abe3a",
   "metadata": {},
   "outputs": [],
   "source": [
    "fp = \"/dssgfs01/working/acc/FORCING/JRA/\""
   ]
  },
  {
   "cell_type": "code",
   "execution_count": 3,
   "id": "19bfebf6-94a1-4fbb-8fba-761f51e2e261",
   "metadata": {},
   "outputs": [],
   "source": [
    "file3 = sorted(glob.glob('/dssgfs01/working/acc/FORCING/JRA/*2003*nc'))\n",
    "file4 = sorted(glob.glob('/dssgfs01/working/acc/FORCING/JRA/*2004*nc'))"
   ]
  },
  {
   "cell_type": "code",
   "execution_count": 5,
   "id": "b222407f-e7bc-4feb-b747-689cd636ec75",
   "metadata": {},
   "outputs": [
    {
     "name": "stdout",
     "output_type": "stream",
     "text": [
      "Variable:  friver\n",
      "   - Frequency: daily\n",
      "   - Dropping Feb 29th\n",
      " \n",
      "Variable:  huss\n",
      "   - Frequency: 3hr\n",
      "   - Dropping Feb 29th\n",
      " \n",
      "Variable:  prra\n",
      "   - Frequency: 3hr\n",
      "   - Dropping Feb 29th\n",
      " \n",
      "Variable:  prsn\n",
      "   - Frequency: 3hr\n",
      "   - Dropping Feb 29th\n",
      " \n",
      "Variable:  psl\n",
      "   - Frequency: 3hr\n",
      "   - Dropping Feb 29th\n",
      " \n",
      "Variable:  ptot\n",
      "   - Frequency: 3hr\n",
      "   - Dropping Feb 29th\n",
      " \n",
      "Variable:  rlds\n",
      "   - Frequency: 3hr\n",
      "   - Dropping Feb 29th\n",
      " \n",
      "Variable:  rsds\n",
      "   - Frequency: 3hr\n",
      "   - Dropping Feb 29th\n",
      " \n",
      "Variable:  tas\n",
      "   - Frequency: 3hr\n",
      "   - Dropping Feb 29th\n",
      " \n",
      "Variable:  uas\n",
      "   - Frequency: 3hr\n",
      "   - Dropping Feb 29th\n",
      " \n",
      "Variable:  vas\n",
      "   - Frequency: 3hr\n",
      "   - Dropping Feb 29th\n",
      " \n"
     ]
    }
   ],
   "source": [
    "dropLY = True\n",
    "\n",
    "for i, j in zip(file3,file4):\n",
    "    ds1 = xr.open_dataset(i)\n",
    "    ds2 = xr.open_dataset(j)\n",
    "    var = i.split(\"_\")[0].split(\"/\")[-1]\n",
    "    print(\"Variable: \", var)\n",
    "    \n",
    "    \n",
    "    if ds1['time'].sizes['time'] == 365:\n",
    "        print(\"   - Frequency: daily\")\n",
    "        ds1['time']=ds2['time'][1:]\n",
    "        ds2[var][92:,:,:] = ds1[var][91:,:,:]\n",
    "    else:\n",
    "        print(\"   - Frequency: 3hr\")\n",
    "        ds1['time']=ds2['time'][1*8:]\n",
    "        ds2[var][92*8:,:,:] = ds1[var][91*8:,:,:]\n",
    "\n",
    "    if dropLY:  \n",
    "        print(\"   - Dropping Feb 29th\")\n",
    "        ds2 = ds2.sel(time=~((ds2.time.dt.month == 2) & (ds2.time.dt.day == 29)))    \n",
    "        \n",
    "    op=\"/dssgfs01/working/atb299/Wishbone/FORCING/JRA/\"\n",
    "    ds2.to_netcdf(op+var+\"_0304NY.nc\")\n",
    "    ds1.close()\n",
    "    ds2.close()\n",
    "    print(\" \")\n"
   ]
  }
 ],
 "metadata": {
  "kernelspec": {
   "display_name": "Python 3 (ipykernel)",
   "language": "python",
   "name": "python3"
  },
  "language_info": {
   "codemirror_mode": {
    "name": "ipython",
    "version": 3
   },
   "file_extension": ".py",
   "mimetype": "text/x-python",
   "name": "python",
   "nbconvert_exporter": "python",
   "pygments_lexer": "ipython3",
   "version": "3.9.10"
  }
 },
 "nbformat": 4,
 "nbformat_minor": 5
}
