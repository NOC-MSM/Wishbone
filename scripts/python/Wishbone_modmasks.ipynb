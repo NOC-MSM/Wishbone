{
 "cells": [
  {
   "cell_type": "markdown",
   "id": "89f9dd3d-7070-4d31-a870-02a89689f747",
   "metadata": {},
   "source": [
    "## Imports"
   ]
  },
  {
   "cell_type": "code",
   "execution_count": 1,
   "id": "35012887-6c21-4cbb-b0cd-50c6639f4ba4",
   "metadata": {},
   "outputs": [],
   "source": [
    "import xarray as xr\n",
    "import glob"
   ]
  },
  {
   "cell_type": "code",
   "execution_count": 8,
   "id": "98ea8aad-5efa-4773-91a7-644b46328a76",
   "metadata": {},
   "outputs": [],
   "source": [
    "ds = xr.open_dataset(\"/dssgfs01/working/atb299/Wishbone/Analysis/working/subbasins.nc\")"
   ]
  },
  {
   "cell_type": "code",
   "execution_count": 9,
   "id": "60855ef5-6b3e-42fe-9f36-4399144ff27b",
   "metadata": {},
   "outputs": [],
   "source": [
    "ds = ds.rename({\"atlmsk\": \"tmaskatl\",\n",
    "                \"indmsk\": \"tmaskind\",\n",
    "                \"pacmsk\": \"tmaskpac\",\n",
    "                \"socmsk\": \"tmaskant\",\n",
    "               })"
   ]
  },
  {
   "cell_type": "code",
   "execution_count": 10,
   "id": "9c4d8974-8155-449f-b411-3021517f63fd",
   "metadata": {},
   "outputs": [],
   "source": [
    "ds.to_netcdf(\"/dssgfs01/working/atb299/Wishbone/Analysis/working/subbasins2.nc\")"
   ]
  }
 ],
 "metadata": {
  "kernelspec": {
   "display_name": "Python 3 (ipykernel)",
   "language": "python",
   "name": "python3"
  },
  "language_info": {
   "codemirror_mode": {
    "name": "ipython",
    "version": 3
   },
   "file_extension": ".py",
   "mimetype": "text/x-python",
   "name": "python",
   "nbconvert_exporter": "python",
   "pygments_lexer": "ipython3",
   "version": "3.9.10"
  }
 },
 "nbformat": 4,
 "nbformat_minor": 5
}
